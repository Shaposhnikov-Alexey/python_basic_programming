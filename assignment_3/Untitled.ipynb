{
 "cells": [
  {
   "cell_type": "code",
   "execution_count": 1,
   "metadata": {},
   "outputs": [],
   "source": [
    "import numpy as np\n",
    "import cv2\n"
   ]
  },
  {
   "cell_type": "code",
   "execution_count": 71,
   "metadata": {},
   "outputs": [
    {
     "data": {
      "text/plain": [
       "True"
      ]
     },
     "execution_count": 71,
     "metadata": {},
     "output_type": "execute_result"
    }
   ],
   "source": [
    "imgA = cv2.imread('image.jpg')\n",
    "\n",
    "imgx2 = cv2.resize(imgA, None, fx=1/2, fy=1/2, interpolation=cv2.INTER_CUBIC)\n",
    "\n",
    "imgx4 = cv2.resize(imgA, None, fx=1/4, fy=1/4, interpolation=cv2.INTER_CUBIC)\n",
    "\n",
    "img2d = cv2.Canny(imgx2, 50, 400)\n",
    "imgB = cv2.cvtColor(img2d, cv2.COLOR_GRAY2BGR)\n",
    "imgC = cv2.blur(imgx4, (5, 5))\n",
    "imgD = cv2.GaussianBlur(imgx4, (7,7), 0)\n",
    "kernel = np.random.randint(-5, 10, (5, 5))/25\n",
    "imgE = cv2.filter2D(imgx4, -1, kernel)\n",
    "imgF = np.random.randint(100, 250, imgx4.shape)\n",
    "\n",
    "row1 = np.concatenate((imgE, imgF), axis=1)\n",
    "row2 = np.concatenate((imgC, imgD), axis=1)\n",
    "row3 = np.concatenate((row2, row1), axis=0)\n",
    "row4 = np.concatenate((imgB, row3), axis=0)\n",
    "res = np.concatenate((imgA, row4), axis=1)\n",
    "\n",
    "cv2.imwrite('res.jpg', res)"
   ]
  },
  {
   "cell_type": "code",
   "execution_count": 65,
   "metadata": {},
   "outputs": [
    {
     "data": {
      "text/plain": [
       "True"
      ]
     },
     "execution_count": 65,
     "metadata": {},
     "output_type": "execute_result"
    }
   ],
   "source": [
    "cv2.imwrite('imgb.jpg', imgB)\n",
    "cv2.imwrite('imgc.jpg', imgC)\n",
    "cv2.imwrite('imgd.jpg', imgD)\n",
    "cv2.imwrite('imge.jpg', imgE)\n",
    "cv2.imwrite('imgf.jpg', imgF)\n"
   ]
  },
  {
   "cell_type": "code",
   "execution_count": null,
   "metadata": {},
   "outputs": [],
   "source": []
  }
 ],
 "metadata": {
  "kernelspec": {
   "display_name": "Python 3",
   "language": "python",
   "name": "python3"
  },
  "language_info": {
   "codemirror_mode": {
    "name": "ipython",
    "version": 3
   },
   "file_extension": ".py",
   "mimetype": "text/x-python",
   "name": "python",
   "nbconvert_exporter": "python",
   "pygments_lexer": "ipython3",
   "version": "3.7.6"
  }
 },
 "nbformat": 4,
 "nbformat_minor": 4
}
